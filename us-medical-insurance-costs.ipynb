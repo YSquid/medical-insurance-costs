{
 "cells": [
  {
   "cell_type": "markdown",
   "metadata": {},
   "source": [
    "# U.S. Medical Insurance Costs"
   ]
  },
  {
   "cell_type": "code",
   "execution_count": 31,
   "metadata": {},
   "outputs": [
    {
     "name": "stdout",
     "output_type": "stream",
     "text": [
      "The total number of records is 1338\n",
      "The max charge is 63770.42801\n",
      "The min charge is 1121.8739\n",
      "The average charge is 13270.422265141257\n"
     ]
    }
   ],
   "source": [
    "import csv\n",
    "\n",
    "with open('insurance.csv', newline='') as insurance_data:\n",
    "    insurance_dict = csv.DictReader(insurance_data)\n",
    "    record_count = 0\n",
    "    max_charge = 0\n",
    "    min_charge = float(\"inf\")\n",
    "    total_charges = 0\n",
    "    for row in insurance_dict:\n",
    "        record_count += 1\n",
    "        total_charges += float(row[\"charges\"])\n",
    "\n",
    "        if float(row[\"charges\"]) > max_charge:\n",
    "            max_charge = float(row[\"charges\"])\n",
    "\n",
    "        if float(row[\"charges\"]) < min_charge:\n",
    "            min_charge = float(row[\"charges\"])\n",
    "    \n",
    "    print(\"The total number of records is \" + str(record_count))\n",
    "    print(\"The max charge is \" + str(max_charge))\n",
    "    print(\"The min charge is \" + str(min_charge))\n",
    "    print(\"The average charge is \" + str(total_charges/record_count))\n"
   ]
  }
 ],
 "metadata": {
  "kernelspec": {
   "display_name": "Python 3",
   "language": "python",
   "name": "python3"
  },
  "language_info": {
   "codemirror_mode": {
    "name": "ipython",
    "version": 3
   },
   "file_extension": ".py",
   "mimetype": "text/x-python",
   "name": "python",
   "nbconvert_exporter": "python",
   "pygments_lexer": "ipython3",
   "version": "3.10.7"
  }
 },
 "nbformat": 4,
 "nbformat_minor": 4
}
