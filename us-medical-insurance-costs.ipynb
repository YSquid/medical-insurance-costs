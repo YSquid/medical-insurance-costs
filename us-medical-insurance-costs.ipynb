{
 "cells": [
  {
   "cell_type": "markdown",
   "metadata": {},
   "source": [
    "# U.S. Medical Insurance Costs"
   ]
  },
  {
   "cell_type": "code",
   "execution_count": 31,
   "metadata": {},
   "outputs": [
    {
     "name": "stdout",
     "output_type": "stream",
     "text": [
      "The total number of records is 1338\n",
      "The max charge is 63770.42801\n",
      "The min charge is 1121.8739\n",
      "The average charge is 13270.422265141257\n"
     ]
    }
   ],
   "source": [
    "#summary statistics overall\n",
    "\n",
    "import csv\n",
    "\n",
    "with open('insurance.csv', newline='') as insurance_data:\n",
    "    insurance_dict = csv.DictReader(insurance_data)\n",
    "    record_count = 0\n",
    "    max_charge = 0\n",
    "    min_charge = float(\"inf\")\n",
    "    total_charges = 0\n",
    "    for row in insurance_dict:\n",
    "        record_count += 1\n",
    "        total_charges += float(row[\"charges\"])\n",
    "\n",
    "        if float(row[\"charges\"]) > max_charge:\n",
    "            max_charge = float(row[\"charges\"])\n",
    "\n",
    "        if float(row[\"charges\"]) < min_charge:\n",
    "            min_charge = float(row[\"charges\"])\n",
    "    \n",
    "    print(\"The total number of records is \" + str(record_count))\n",
    "    print(\"The max charge is \" + str(max_charge))\n",
    "    print(\"The min charge is \" + str(min_charge))\n",
    "    print(\"The average charge is \" + str(total_charges/record_count))\n"
   ]
  },
  {
   "cell_type": "code",
   "execution_count": 21,
   "metadata": {},
   "outputs": [
    {
     "name": "stdout",
     "output_type": "stream",
     "text": [
      "The total number of males is 676\n",
      "The total number of females is 662\n",
      "The average charge for a male is 13956.751177721886\n",
      "The average charge for a female is 12569.57884383534\n",
      "The maximum charge for a male is 62592.87309\n",
      "The minimum charge for a male is 1121.8739\n",
      "The maximum charge for a female is 63770.42801\n",
      "The minimum charge for a female is 1607.5101\n"
     ]
    }
   ],
   "source": [
    "#summary statistics by sex\n",
    "\n",
    "import csv\n",
    "\n",
    "with open('insurance.csv', newline='') as insurance_data:\n",
    "    insurance_dict = csv.DictReader(insurance_data)\n",
    "    male_count = 0\n",
    "    female_count = 0\n",
    "\n",
    "    male_total = 0\n",
    "    female_total = 0\n",
    "\n",
    "    male_max = 0\n",
    "    male_min = float('inf')\n",
    "\n",
    "    female_max = 0\n",
    "    female_min = float('inf')\n",
    "    ##count males and females\n",
    "    for row in insurance_dict:\n",
    "        if row[\"sex\"] == \"male\":\n",
    "            male_count += 1\n",
    "            male_total += float(row[\"charges\"])\n",
    "            if float(row[\"charges\"]) > male_max:\n",
    "                male_max = float(row[\"charges\"])\n",
    "            if float(row[\"charges\"]) < male_min:\n",
    "                male_min = float(row[\"charges\"])\n",
    "        else:\n",
    "            female_count += 1\n",
    "            female_total += float(row[\"charges\"])\n",
    "            if float(row[\"charges\"]) > female_max:\n",
    "                female_max = float(row[\"charges\"])\n",
    "            if float(row[\"charges\"]) < female_min:\n",
    "                female_min = float(row[\"charges\"])\n",
    "    \n",
    "    print(\"The total number of males is \" +str(male_count))\n",
    "    print(\"The total number of females is \" + str(female_count))\n",
    "    print(\"The average charge for a male is \" + str(male_total / male_count))\n",
    "    print(\"The average charge for a female is \" + str(female_total/ female_count))\n",
    "    print(\"The maximum charge for a male is \" + str(male_max))\n",
    "    print(\"The minimum charge for a male is \" + str(male_min))\n",
    "    print(\"The maximum charge for a female is \" + str(female_max))\n",
    "    print(\"The minimum charge for a female is \" + str(female_min))\n"
   ]
  },
  {
   "cell_type": "code",
   "execution_count": 25,
   "metadata": {},
   "outputs": [
    {
     "name": "stdout",
     "output_type": "stream",
     "text": [
      "274\n",
      "1064\n",
      "8781763.52184\n",
      "8974061.468918996\n",
      "The average charge for a smoker is 32050.23183153285\n",
      "The average charge for a non smoker is 8434.268297856199\n"
     ]
    }
   ],
   "source": [
    "import csv\n",
    "\n",
    "with open('insurance.csv', newline='') as insurance_data:\n",
    "    insurance_dict = csv.DictReader(insurance_data)\n",
    "\n",
    "    smoker_count = 0\n",
    "    non_smoker_count = 0\n",
    "\n",
    "    smoker_total = 0\n",
    "    non_smoker_total = 0\n",
    "\n",
    "    for row in insurance_dict:\n",
    "        if row[\"smoker\"] == \"yes\":\n",
    "            smoker_count += 1\n",
    "            smoker_total += float(row[\"charges\"])\n",
    "        else:\n",
    "            non_smoker_count += 1\n",
    "            non_smoker_total += float(row[\"charges\"])\n",
    "    \n",
    "\n",
    "    print(smoker_count)\n",
    "    print(non_smoker_count)\n",
    "    print(smoker_total)\n",
    "    print(non_smoker_total)\n",
    "\n",
    "    print(\"The average charge for a smoker is \" + str(smoker_total / smoker_count))\n",
    "    print(\"The average charge for a non smoker is \" + str(non_smoker_total / non_smoker_count))\n",
    "    "
   ]
  }
 ],
 "metadata": {
  "kernelspec": {
   "display_name": "Python 3",
   "language": "python",
   "name": "python3"
  },
  "language_info": {
   "codemirror_mode": {
    "name": "ipython",
    "version": 3
   },
   "file_extension": ".py",
   "mimetype": "text/x-python",
   "name": "python",
   "nbconvert_exporter": "python",
   "pygments_lexer": "ipython3",
   "version": "3.10.7"
  }
 },
 "nbformat": 4,
 "nbformat_minor": 4
}
